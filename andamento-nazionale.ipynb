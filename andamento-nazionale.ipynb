{
 "cells": [
  {
   "cell_type": "code",
   "execution_count": 1,
   "metadata": {},
   "outputs": [],
   "source": [
    "import csv\n",
    "import os\n",
    "import string\n",
    "import random\n",
    "import requests\n",
    "import threading\n",
    "import calendar\n",
    "import datetime\n",
    "import json \n",
    "import pandas as pd\n",
    "import _thread\n",
    "import collections\n",
    "from tabulate import tabulate\n",
    "import matplotlib.pyplot as plt\n",
    "import operator\n",
    "from collections import OrderedDict"
   ]
  },
  {
   "cell_type": "markdown",
   "metadata": {},
   "source": []
  },
  {
   "cell_type": "code",
   "execution_count": 2,
   "metadata": {
    "scrolled": false
   },
   "outputs": [
    {
     "name": "stdout",
     "output_type": "stream",
     "text": [
      "                    data stato  ricoverati_con_sintomi  terapia_intensiva  \\\n",
      "0    2020-02-24T18:00:00   ITA                     101                 26   \n",
      "1    2020-02-25T18:00:00   ITA                     114                 35   \n",
      "2    2020-02-26T18:00:00   ITA                     128                 36   \n",
      "3    2020-02-27T18:00:00   ITA                     248                 56   \n",
      "4    2020-02-28T18:00:00   ITA                     345                 64   \n",
      "..                   ...   ...                     ...                ...   \n",
      "248  2020-10-29T17:00:00   ITA                   15964               1651   \n",
      "249  2020-10-30T17:00:00   ITA                   16994               1746   \n",
      "250  2020-10-31T17:00:00   ITA                   17966               1843   \n",
      "251  2020-11-01T17:00:00   ITA                   18902               1939   \n",
      "252  2020-11-02T17:00:00   ITA                   19840               2022   \n",
      "\n",
      "     totale_ospedalizzati  isolamento_domiciliare  totale_positivi  \\\n",
      "0                     127                      94              221   \n",
      "1                     150                     162              311   \n",
      "2                     164                     221              385   \n",
      "3                     304                     284              588   \n",
      "4                     409                     412              821   \n",
      "..                    ...                     ...              ...   \n",
      "248                 17615                  281576           299191   \n",
      "249                 18740                  307046           325786   \n",
      "250                 19809                  331577           351386   \n",
      "251                 20841                  357288           378129   \n",
      "252                 21862                  374650           396512   \n",
      "\n",
      "     variazione_totale_positivi  nuovi_positivi  dimessi_guariti  deceduti  \\\n",
      "0                             0             221                1         7   \n",
      "1                            90              93                1        10   \n",
      "2                            74              78                3        12   \n",
      "3                           203             250               45        17   \n",
      "4                           233             238               46        21   \n",
      "..                          ...             ...              ...       ...   \n",
      "248                       22734           26831           279282     38122   \n",
      "249                       26595           31084           283567     38321   \n",
      "250                       25600           31758           289426     38618   \n",
      "251                       26743           29907           292380     38826   \n",
      "252                       18383           22253           296017     39059   \n",
      "\n",
      "     casi_da_sospetto_diagnostico  casi_da_screening  totale_casi   tamponi  \\\n",
      "0                             NaN                NaN          229      4324   \n",
      "1                             NaN                NaN          322      8623   \n",
      "2                             NaN                NaN          400      9587   \n",
      "3                             NaN                NaN          650     12014   \n",
      "4                             NaN                NaN          888     15695   \n",
      "..                            ...                ...          ...       ...   \n",
      "248                      421834.0           194761.0       616595  15353490   \n",
      "249                      439297.0           208377.0       647674  15568575   \n",
      "250                      460502.0           218928.0       679430  15784461   \n",
      "251                      474270.0           235065.0       709335  15967918   \n",
      "252                      487976.0           243612.0       731588  16103649   \n",
      "\n",
      "     casi_testati note  \n",
      "0             NaN  NaN  \n",
      "1             NaN  NaN  \n",
      "2             NaN  NaN  \n",
      "3             NaN  NaN  \n",
      "4             NaN  NaN  \n",
      "..            ...  ...  \n",
      "248     9316495.0  NaN  \n",
      "249     9446183.0  NaN  \n",
      "250     9578462.0  NaN  \n",
      "251     9695940.0  NaN  \n",
      "252     9783603.0  NaN  \n",
      "\n",
      "[253 rows x 17 columns]\n"
     ]
    }
   ],
   "source": [
    "url=\"https://raw.githubusercontent.com/pcm-dpc/COVID-19/master/dati-andamento-nazionale/dpc-covid19-ita-andamento-nazionale.csv\"\n",
    "dataframe=pd.read_csv(url)\n",
    "print (dataframe)"
   ]
  },
  {
   "cell_type": "code",
   "execution_count": 5,
   "metadata": {},
   "outputs": [
    {
     "data": {
      "image/png": "[encoded data removed]",
      "text/plain": [
       "<Figure size 432x288 with 1 Axes>"
      ]
     },
     "metadata": {
      "needs_background": "light"
     },
     "output_type": "display_data"
    }
   ],
   "source": [
    "y = dataframe.variazione_totale_positivi\n",
    "x = dataframe.data\n",
    "plt.plot_date(x, y)\n",
    "plt.gcf().autofmt_xdate\n",
    "plt.tight_layout()\n",
    "plt.show()"
   ]
  },
  {
   "cell_type": "code",
   "execution_count": null,
   "metadata": {},
   "outputs": [],
   "source": []
  },
  {
   "cell_type": "code",
   "execution_count": null,
   "metadata": {},
   "outputs": [],
   "source": []
  },
  {
   "cell_type": "code",
   "execution_count": null,
   "metadata": {},
   "outputs": [],
   "source": []
  },
  {
   "cell_type": "markdown",
   "metadata": {},
   "source": [
    "## "
   ]
  },
  {
   "cell_type": "code",
   "execution_count": null,
   "metadata": {},
   "outputs": [],
   "source": []
  }
 ],
 "metadata": {
  "kernelspec": {
   "display_name": "Python 3",
   "language": "python",
   "name": "python3"
  },
  "language_info": {
   "codemirror_mode": {
    "name": "ipython",
    "version": 3
   },
   "file_extension": ".py",
   "mimetype": "text/x-python",
   "name": "python",
   "nbconvert_exporter": "python",
   "pygments_lexer": "ipython3",
   "version": "3.8.5"
  }
 },
 "nbformat": 4,
 "nbformat_minor": 2
}
