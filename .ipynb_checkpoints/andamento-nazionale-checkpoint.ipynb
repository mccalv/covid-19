{
 "cells": [
  {
   "cell_type": "code",
   "execution_count": 5,
   "metadata": {},
   "outputs": [],
   "source": [
    "import csv\n",
    "import os\n",
    "import string\n",
    "import random\n",
    "import requests\n",
    "import threading\n",
    "import calendar\n",
    "import datetime\n",
    "import json \n",
    "import pandas as pd\n",
    "import _thread\n",
    "import collections\n",
    "from tabulate import tabulate\n",
    "import matplotlib.pyplot as plt\n",
    "import operator\n",
    "from collections import OrderedDict"
   ]
  },
  {
   "cell_type": "markdown",
   "metadata": {},
   "source": []
  },
  {
   "cell_type": "code",
   "execution_count": 12,
   "metadata": {
    "scrolled": false
   },
   "outputs": [
    {
     "name": "stdout",
     "output_type": "stream",
     "text": [
      "                    data stato  ricoverati_con_sintomi  terapia_intensiva  \\\n",
      "0    2020-02-24T18:00:00   ITA                     101                 26   \n",
      "1    2020-02-25T18:00:00   ITA                     114                 35   \n",
      "2    2020-02-26T18:00:00   ITA                     128                 36   \n",
      "3    2020-02-27T18:00:00   ITA                     248                 56   \n",
      "4    2020-02-28T18:00:00   ITA                     345                 64   \n",
      "..                   ...   ...                     ...                ...   \n",
      "172  2020-08-14T17:00:00   ITA                     771                 56   \n",
      "173  2020-08-15T17:00:00   ITA                     764                 55   \n",
      "174  2020-08-16T17:00:00   ITA                     787                 56   \n",
      "175  2020-08-17T17:00:00   ITA                     810                 58   \n",
      "176  2020-08-18T17:00:00   ITA                     843                 58   \n",
      "\n",
      "     totale_ospedalizzati  isolamento_domiciliare  totale_positivi  \\\n",
      "0                     127                      94              221   \n",
      "1                     150                     162              311   \n",
      "2                     164                     221              385   \n",
      "3                     304                     284              588   \n",
      "4                     409                     412              821   \n",
      "..                    ...                     ...              ...   \n",
      "172                   827                   13422            14249   \n",
      "173                   819                   13587            14406   \n",
      "174                   843                   13890            14733   \n",
      "175                   868                   13999            14867   \n",
      "176                   901                   14188            15089   \n",
      "\n",
      "     variazione_totale_positivi  nuovi_positivi  dimessi_guariti  deceduti  \\\n",
      "0                             0             221                1         7   \n",
      "1                            90              93                1        10   \n",
      "2                            74              78                3        12   \n",
      "3                           203             250               45        17   \n",
      "4                           233             238               46        21   \n",
      "..                          ...             ...              ...       ...   \n",
      "172                         168             574           203326     35234   \n",
      "173                         157             629           203640     35392   \n",
      "174                         327             479           203786     35396   \n",
      "175                         134             320           203968     35400   \n",
      "176                         222             403           204142     35405   \n",
      "\n",
      "     casi_da_sospetto_diagnostico  casi_da_screening  totale_casi  tamponi  \\\n",
      "0                             NaN                NaN          229     4324   \n",
      "1                             NaN                NaN          322     8623   \n",
      "2                             NaN                NaN          400     9587   \n",
      "3                             NaN                NaN          650    12014   \n",
      "4                             NaN                NaN          888    15695   \n",
      "..                            ...                ...          ...      ...   \n",
      "172                      224319.0            28490.0       252809  7467487   \n",
      "173                      224521.0            28917.0       253438  7520610   \n",
      "174                      224694.0            29221.0       253915  7557417   \n",
      "175                      224812.0            29423.0       254235  7588083   \n",
      "176                      224974.0            29662.0       254636  7642059   \n",
      "\n",
      "     casi_testati note  \n",
      "0             NaN  NaN  \n",
      "1             NaN  NaN  \n",
      "2             NaN  NaN  \n",
      "3             NaN  NaN  \n",
      "4             NaN  NaN  \n",
      "..            ...  ...  \n",
      "172     4407524.0  NaN  \n",
      "173     4433461.0  NaN  \n",
      "174     4455931.0  NaN  \n",
      "175     4477310.0  NaN  \n",
      "176     4509997.0  NaN  \n",
      "\n",
      "[177 rows x 17 columns]\n"
     ]
    }
   ],
   "source": [
    "url=\"https://raw.githubusercontent.com/pcm-dpc/COVID-19/master/dati-andamento-nazionale/dpc-covid19-ita-andamento-nazionale.csv\"\n",
    "dataframe=pd.read_csv(url)\n",
    "print (dataframe)"
   ]
  },
  {
   "cell_type": "code",
   "execution_count": 17,
   "metadata": {},
   "outputs": [
    {
     "data": {
      "image/png": "[encoded data removed]",
      "text/plain": [
       "<Figure size 432x288 with 1 Axes>"
      ]
     },
     "metadata": {
      "needs_background": "light"
     },
     "output_type": "display_data"
    }
   ],
   "source": [
    "y = dataframe.totale_ospedalizzati\n",
    "x = dataframe.data\n",
    "plt.plot_date(x, y)\n",
    "plt.gcf().autofmt_xdate\n",
    "plt.tight_layout()\n",
    "plt.show()"
   ]
  },
  {
   "cell_type": "code",
   "execution_count": null,
   "metadata": {},
   "outputs": [],
   "source": []
  },
  {
   "cell_type": "code",
   "execution_count": null,
   "metadata": {},
   "outputs": [],
   "source": []
  },
  {
   "cell_type": "code",
   "execution_count": null,
   "metadata": {},
   "outputs": [],
   "source": []
  },
  {
   "cell_type": "markdown",
   "metadata": {},
   "source": [
    "## "
   ]
  },
  {
   "cell_type": "code",
   "execution_count": null,
   "metadata": {},
   "outputs": [],
   "source": []
  }
 ],
 "metadata": {
  "kernelspec": {
   "display_name": "Python 3",
   "language": "python",
   "name": "python3"
  },
  "language_info": {
   "codemirror_mode": {
    "name": "ipython",
    "version": 3
   },
   "file_extension": ".py",
   "mimetype": "text/x-python",
   "name": "python",
   "nbconvert_exporter": "python",
   "pygments_lexer": "ipython3",
   "version": "3.8.5"
  }
 },
 "nbformat": 4,
 "nbformat_minor": 2
}
